{
 "cells": [
  {
   "cell_type": "markdown",
   "metadata": {},
   "source": [
    "# SimpleAccelerometer"
   ]
  },
  {
   "cell_type": "markdown",
   "metadata": {},
   "source": [
    "This notebook, uploads the SimpleAccelerometer.ino sketch to the connected Arduino board. Then uses the `unittests` module to assert if the values obtained by the sketch are reasonable. The board must be placed in a stable location, since we consider the total force (from all three directions) to equal 1 g ($ \\approx 9.8 m/s^2$)"
   ]
  },
  {
   "cell_type": "markdown",
   "metadata": {},
   "source": [
    "We import the requried libraries. There is no need to modify the `SimpleAccelerometer.ino` sketch."
   ]
  },
  {
   "cell_type": "code",
   "execution_count": 7,
   "metadata": {},
   "outputs": [
    {
     "name": "stdout",
     "output_type": "stream",
     "text": [
      "Requirement already satisfied: pyserial in c:\\users\\user\\appdata\\local\\programs\\python\\python39\\lib\\site-packages (3.5)\n"
     ]
    },
    {
     "name": "stderr",
     "output_type": "stream",
     "text": [
      "\n",
      "[notice] A new release of pip is available: 23.0.1 -> 23.3.1\n",
      "[notice] To update, run: c:\\users\\user\\appdata\\local\\programs\\python\\python39\\python.exe -m pip install --upgrade pip\n"
     ]
    },
    {
     "ename": "ModuleNotFoundError",
     "evalue": "No module named 'pyserial'",
     "output_type": "error",
     "traceback": [
      "\u001b[1;31m---------------------------------------------------------------------------\u001b[0m",
      "\u001b[1;31mModuleNotFoundError\u001b[0m                       Traceback (most recent call last)",
      "\u001b[1;32md:\\Github\\Arduino\\Arduino_LSM9DS1\\extra\\tests\\notebook\\SimpleAccelerometer.ipynb Cell 4\u001b[0m line \u001b[0;36m3\n\u001b[0;32m      <a href='vscode-notebook-cell:/d%3A/Github/Arduino/Arduino_LSM9DS1/extra/tests/notebook/SimpleAccelerometer.ipynb#W4sZmlsZQ%3D%3D?line=0'>1</a>\u001b[0m \u001b[39mimport\u001b[39;00m \u001b[39mjson\u001b[39;00m\n\u001b[0;32m      <a href='vscode-notebook-cell:/d%3A/Github/Arduino/Arduino_LSM9DS1/extra/tests/notebook/SimpleAccelerometer.ipynb#W4sZmlsZQ%3D%3D?line=1'>2</a>\u001b[0m get_ipython()\u001b[39m.\u001b[39msystem(\u001b[39m'\u001b[39m\u001b[39mpip install pyserial\u001b[39m\u001b[39m'\u001b[39m)\n\u001b[1;32m----> <a href='vscode-notebook-cell:/d%3A/Github/Arduino/Arduino_LSM9DS1/extra/tests/notebook/SimpleAccelerometer.ipynb#W4sZmlsZQ%3D%3D?line=2'>3</a>\u001b[0m \u001b[39mimport\u001b[39;00m \u001b[39mpyserial\u001b[39;00m\n\u001b[0;32m      <a href='vscode-notebook-cell:/d%3A/Github/Arduino/Arduino_LSM9DS1/extra/tests/notebook/SimpleAccelerometer.ipynb#W4sZmlsZQ%3D%3D?line=3'>4</a>\u001b[0m \u001b[39mimport\u001b[39;00m \u001b[39mpandas\u001b[39;00m \u001b[39mas\u001b[39;00m \u001b[39mpd\u001b[39;00m\n\u001b[0;32m      <a href='vscode-notebook-cell:/d%3A/Github/Arduino/Arduino_LSM9DS1/extra/tests/notebook/SimpleAccelerometer.ipynb#W4sZmlsZQ%3D%3D?line=4'>5</a>\u001b[0m \u001b[39mimport\u001b[39;00m \u001b[39mre\u001b[39;00m\n",
      "\u001b[1;31mModuleNotFoundError\u001b[0m: No module named 'pyserial'"
     ]
    }
   ],
   "source": [
    "import json\n",
    "# TODO: Find replacement for pyserial - problematic on windows\n",
    "import pyserial \n",
    "import pandas as pd\n",
    "import re\n",
    "import matplotlib.pyplot as plt\n",
    "import seaborn as sns\n",
    "import unittest"
   ]
  },
  {
   "cell_type": "markdown",
   "metadata": {},
   "source": [
    "In the JSON format we read the data from the `arduino-cli` tool. No other external hardware specific tool (beyong serial) is used."
   ]
  },
  {
   "cell_type": "code",
   "execution_count": null,
   "metadata": {},
   "outputs": [],
   "source": [
    "data_string= !arduino-cli board list --format json"
   ]
  },
  {
   "cell_type": "markdown",
   "metadata": {},
   "source": [
    "This gives us a list of the connected board in machine-friendly JSON format. We can then select the connected Nano 33 BLE board. "
   ]
  },
  {
   "cell_type": "code",
   "execution_count": null,
   "metadata": {},
   "outputs": [],
   "source": [
    "data_list = ''.join(data_string)\n",
    "data_json = json.loads(data_list)\n",
    "\n",
    "# Extract the COM port for the Nano 33 BLE\n",
    "for item in data_json:\n",
    "    if 'matching_boards' in item:\n",
    "        print(\"COM Port for Nano 33 BLE:\", item['port']['address'])\n",
    "        niclaSenseMEPort = item['port']['address']"
   ]
  },
  {
   "cell_type": "markdown",
   "metadata": {},
   "source": [
    "We will define a class `TestSerialCommunication` that will for a given test data evaluate if the output is correct. This performs two tasks:\n",
    "- Checks to see if the serial port is established\n",
    "- Checks the data recieved\n",
    "\n",
    "If any of the tests fail, then an error is reported. "
   ]
  },
  {
   "cell_type": "code",
   "execution_count": 8,
   "metadata": {},
   "outputs": [
    {
     "ename": "NameError",
     "evalue": "name 'unittest' is not defined",
     "output_type": "error",
     "traceback": [
      "\u001b[1;31m---------------------------------------------------------------------------\u001b[0m",
      "\u001b[1;31mNameError\u001b[0m                                 Traceback (most recent call last)",
      "\u001b[1;32md:\\Github\\Arduino\\Arduino_LSM9DS1\\extra\\tests\\notebook\\SimpleAccelerometer.ipynb Cell 8\u001b[0m line \u001b[0;36m1\n\u001b[1;32m----> <a href='vscode-notebook-cell:/d%3A/Github/Arduino/Arduino_LSM9DS1/extra/tests/notebook/SimpleAccelerometer.ipynb#X12sZmlsZQ%3D%3D?line=0'>1</a>\u001b[0m \u001b[39mclass\u001b[39;00m \u001b[39mTestSerialCommunication\u001b[39;00m(unittest\u001b[39m.\u001b[39mTestCase):\n\u001b[0;32m      <a href='vscode-notebook-cell:/d%3A/Github/Arduino/Arduino_LSM9DS1/extra/tests/notebook/SimpleAccelerometer.ipynb#X12sZmlsZQ%3D%3D?line=1'>2</a>\u001b[0m     \u001b[39mdef\u001b[39;00m \u001b[39mtest_read_serial_data\u001b[39m(\u001b[39mself\u001b[39m, mock_stdout):\n\u001b[0;32m      <a href='vscode-notebook-cell:/d%3A/Github/Arduino/Arduino_LSM9DS1/extra/tests/notebook/SimpleAccelerometer.ipynb#X12sZmlsZQ%3D%3D?line=2'>3</a>\u001b[0m         test_data \u001b[39m=\u001b[39m \u001b[39m\"\u001b[39m\u001b[39m1.23\u001b[39m\u001b[39m\\t\u001b[39;00m\u001b[39m4.56\u001b[39m\u001b[39m\\t\u001b[39;00m\u001b[39m7.89\u001b[39m\u001b[39m\"\u001b[39m  \u001b[39m# Example test data\u001b[39;00m\n",
      "\u001b[1;31mNameError\u001b[0m: name 'unittest' is not defined"
     ]
    }
   ],
   "source": [
    "class TestSerialCommunication(unittest.TestCase):\n",
    "    def test_accelerometer_data(self):\n",
    "        # TODO: Check to see if the magnitude of acceleration = 1g\n",
    "\n",
    "    def test_read_data(self):\n",
    "        # TODO: Check for string recieved. Use re\n",
    "        self.assertEqual(data, test_data)\n",
    "    \n",
    "    def test_invalid_port(self):\n",
    "        # TODO: Check port is connected correclty"
   ]
  },
  {
   "cell_type": "markdown",
   "metadata": {},
   "source": [
    "This code, should only ran directly, not as part of a package. This should not be strictly neccessary, but can prevent unintential issues down the line for future maintainers and users"
   ]
  },
  {
   "cell_type": "code",
   "execution_count": null,
   "metadata": {},
   "outputs": [],
   "source": [
    "if __name__ == '__main__':\n",
    "    unittest.main()"
   ]
  }
 ],
 "metadata": {
  "kernelspec": {
   "display_name": "Python 3",
   "language": "python",
   "name": "python3"
  },
  "language_info": {
   "codemirror_mode": {
    "name": "ipython",
    "version": 3
   },
   "file_extension": ".py",
   "mimetype": "text/x-python",
   "name": "python",
   "nbconvert_exporter": "python",
   "pygments_lexer": "ipython3",
   "version": "3.10.4"
  }
 },
 "nbformat": 4,
 "nbformat_minor": 2
}
